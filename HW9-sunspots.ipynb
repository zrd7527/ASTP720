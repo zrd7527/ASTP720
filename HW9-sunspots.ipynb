{
 "cells": [
  {
   "cell_type": "markdown",
   "metadata": {},
   "source": [
    "# HW9: Forecasting Solar Cycles\n",
    "\n",
    "Below is the notebook associated with HW\\#9. You can run the notebook in two modes. If you have the `emcee` and `corner` packages installed on your machine, along with the data files, just keep the following variable set to `False`. If you are running it in a Google colab notebook, set it to `True` so that it will grab the packages and files. Remember that the Google colab environment will shutdown after ~1 hour of inactivity, so you'll need to keep interacting with it or else will lose the data.\n",
    "\n",
    "A script version of this file will also be provided to you, but you cannot use this in a Google colab environment"
   ]
  },
  {
   "cell_type": "code",
   "execution_count": null,
   "metadata": {},
   "outputs": [],
   "source": [
    "COLAB = False"
   ]
  },
  {
   "cell_type": "code",
   "execution_count": null,
   "metadata": {},
   "outputs": [],
   "source": [
    "if COLAB:\n",
    "    # Install emcee package\n",
    "    !pip install emcee\n",
    "    # Install corner package\n",
    "    !pip install corner    \n",
    "    # Grab sunspot data file\n",
    "    !wget -O SN_m_tot_V2.0.txt https://raw.githubusercontent.com/mtlam/ASTP-720_F2020/master/HW9/SN_m_tot_V2.0.txt"
   ]
  },
  {
   "cell_type": "code",
   "execution_count": null,
   "metadata": {},
   "outputs": [],
   "source": [
    "import numpy as np\n",
    "from matplotlib.pyplot import *\n",
    "from matplotlib import rc\n",
    "import emcee\n",
    "import corner\n",
    "%matplotlib inline\n",
    "\n",
    "# Make more readable plots\n",
    "rc('font',**{'size':14})\n",
    "rc('xtick',**{'labelsize':16})\n",
    "rc('ytick',**{'labelsize':16})\n",
    "rc('axes',**{'labelsize':18,'titlesize':18})"
   ]
  },
  {
   "cell_type": "markdown",
   "metadata": {},
   "source": [
    "## Define the (log-)priors\n",
    "\n",
    "Here, the function should take a vector of parameters, `theta`, and return `0.0` if the it is in the prior range and `-np.inf` if it is outside. This is equivalent to a uniform prior over the parameters. You can, of course, define a different set of priors if you so choose!"
   ]
  },
  {
   "cell_type": "code",
   "execution_count": null,
   "metadata": {},
   "outputs": [],
   "source": [
    "def lnprior(theta):\n",
    "    \"\"\"\n",
    "    Parameters\n",
    "    ----------\n",
    "    theta : np.ndarray\n",
    "        Array of parameters.\n",
    "        \n",
    "    Returns\n",
    "    -------\n",
    "    Value of log-prior.    \n",
    "    \"\"\"\n",
    "    pass"
   ]
  },
  {
   "cell_type": "markdown",
   "metadata": {},
   "source": [
    "## Define the (log-)likelihood"
   ]
  },
  {
   "cell_type": "code",
   "execution_count": null,
   "metadata": {},
   "outputs": [],
   "source": [
    "def lnlike(theta, data):\n",
    "    \"\"\"\n",
    "    Parameters\n",
    "    ----------\n",
    "    theta : np.ndarray\n",
    "        Array of parameters.\n",
    "    data : np.ndarray\n",
    "        \n",
    "        \n",
    "    Returns\n",
    "    -------\n",
    "    Value of log-likelihood   \n",
    "    \"\"\"\n",
    "    residuals = None\n",
    "    pass"
   ]
  },
  {
   "cell_type": "markdown",
   "metadata": {},
   "source": [
    "## Define total (log-)probability\n",
    "\n",
    "No need to change this if the other two functions work as described."
   ]
  },
  {
   "cell_type": "code",
   "execution_count": null,
   "metadata": {
    "scrolled": false
   },
   "outputs": [],
   "source": [
    "def lnprob(theta, data):\n",
    "    lp = lnprior(theta)\n",
    "    if not np.isfinite(lp):\n",
    "        return -np.inf\n",
    "    return lp + lnlike(theta, data)"
   ]
  },
  {
   "cell_type": "markdown",
   "metadata": {},
   "source": [
    "## Set up the MCMC sampler here"
   ]
  },
  {
   "cell_type": "code",
   "execution_count": null,
   "metadata": {},
   "outputs": [],
   "source": [
    "# Number of walkers to search through parameter space\n",
    "nwalkers = 10\n",
    "# Number of iterations to run the sampler for\n",
    "niter = 50000\n",
    "# Initial guess of parameters. For example, if you had a model like\n",
    "# s(t) = a + bt + ct^2\n",
    "# and your initial guesses for a, b, and c were 5, 3, and 8, respectively, then you would write\n",
    "# pinit = np.array([5, 3, 8])\n",
    "# Make sure the guesses are allowed inside your lnprior range!\n",
    "pinit = np.array([])\n",
    "# Number of dimensions of parameter space\n",
    "ndim = len(pinit)\n",
    "# Perturbed set of initial guesses. Have your walkers all start out at\n",
    "# *slightly* different starting values\n",
    "p0 = [pinit + 1e-4*pinit*np.random.randn(ndim) for i in range(nwalkers)]"
   ]
  },
  {
   "cell_type": "markdown",
   "metadata": {},
   "source": [
    "## Load the data, plot to show"
   ]
  },
  {
   "cell_type": "code",
   "execution_count": null,
   "metadata": {},
   "outputs": [],
   "source": [
    "# Data: decimal year, sunspot number\n",
    "decyear, ssn = np.loadtxt(\"SN_m_tot_V2.0.txt\", unpack=True, usecols=(2, 3))\n",
    "plot(decyear, ssn, 'k.')\n",
    "xlabel('Year')\n",
    "ylabel('Sunspot Number')\n",
    "show()"
   ]
  },
  {
   "cell_type": "markdown",
   "metadata": {},
   "source": [
    "## Run the sampler"
   ]
  },
  {
   "cell_type": "code",
   "execution_count": null,
   "metadata": {},
   "outputs": [],
   "source": [
    "# Number of CPU threads to use. Reduce if you are running on your own machine\n",
    "# and don't want to use too many cores\n",
    "nthreads = 4\n",
    "# Set up the sampler\n",
    "sampler = emcee.EnsembleSampler(nwalkers, ndim, lnprob, args=(ssn,), threads=nthreads)\n",
    "# Run the sampler. May take a while! You might consider changing the \n",
    "# number of iterations to a much smaller value when you're testing. Or use a \n",
    "# larger value when you're trying to get your final results out!\n",
    "sampler.run_mcmc(p0, niter, progress=True)"
   ]
  },
  {
   "cell_type": "markdown",
   "metadata": {},
   "source": [
    "## Get the samples in the appropriate format, with a burn value"
   ]
  },
  {
   "cell_type": "code",
   "execution_count": null,
   "metadata": {},
   "outputs": [],
   "source": [
    "# Burn-in value = 1/4th the number of iterations. Feel free to change!\n",
    "burn = int(0.25*niter)\n",
    "# Reshape the chains for input to corner.corner()\n",
    "samples = sampler.chain[:, burn:, :].reshape((-1, ndim))"
   ]
  },
  {
   "cell_type": "markdown",
   "metadata": {},
   "source": [
    "## Make a corner plot\n",
    "\n",
    "You should feel free to adjust the parameters to the `corner` function. You **should** also add labels, which should just be a list of the names of the parameters. So, if you had two parameters, $\\phi_1$ and $\\phi_2$, then you could write:\n",
    "\n",
    "```\n",
    "labels = [r\"$\\phi_1$\", r\"$\\phi_2$\"]\n",
    "```\n",
    "\n",
    "and that will make the appropriate label in LaTeX (if the distribution is installed correctly) for the two 1D posteriors of the corner plot."
   ]
  },
  {
   "cell_type": "code",
   "execution_count": null,
   "metadata": {},
   "outputs": [],
   "source": [
    "fig = corner.corner(samples, bins=50, color='C0', smooth=0.5, plot_datapoints=False, plot_density=True, \\\n",
    "                    plot_contours=True, fill_contour=False, show_titles=True)#, labels=labels)\n",
    "fig.savefig(\"corner.png\")\n",
    "show()"
   ]
  }
 ],
 "metadata": {
  "kernelspec": {
   "display_name": "Python 3",
   "language": "python",
   "name": "python3"
  },
  "language_info": {
   "codemirror_mode": {
    "name": "ipython",
    "version": 3
   },
   "file_extension": ".py",
   "mimetype": "text/x-python",
   "name": "python",
   "nbconvert_exporter": "python",
   "pygments_lexer": "ipython3",
   "version": "3.6.9"
  }
 },
 "nbformat": 4,
 "nbformat_minor": 4
}
