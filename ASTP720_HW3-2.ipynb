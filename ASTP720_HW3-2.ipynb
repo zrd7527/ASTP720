{
 "cells": [
  {
   "cell_type": "code",
   "execution_count": null,
   "metadata": {},
   "outputs": [],
   "source": [
    "def euler(func, TimeRange, y0, h):\n",
    "    ApproxFunc = []\n",
    "    t = TimeRange[0]\n",
    "    t1 = TimeRange[1]\n",
    "    while t <= t1:\n",
    "        if t == TimeRange[0]:\n",
    "            yi1 = y0 + h*func(t, y0)\n",
    "        else:\n",
    "            yi1 = yi + h*func(t, yi)\n",
    "        ApproxFunc.append(yi1)\n",
    "        t += h\n",
    "        yi = yi1\n",
    "    return(ApproxFunc)\n",
    "        \n",
    "def heun(func, TimeRange, y0, h):\n",
    "    ApproxFunc = []\n",
    "    t = TimeRange[0]\n",
    "    t1 = TimeRange[1]\n",
    "    while t <= t1:\n",
    "        if t == TimeRange[0]:\n",
    "            ytil = y0 + h*func(t, y0)\n",
    "            yi1 = y0 + 0.5*h*(func(t, ytil) + func(t, y0))\n",
    "        else:\n",
    "            ytil = yi + h*func(t, yi)\n",
    "            yi1 = yi + 0.5*h*(func(t, ytil)+func(t, yi))\n",
    "        ApproxFunc.append(yi1)\n",
    "        t += h\n",
    "        yi = yi1\n",
    "    return(ApproxFunc)\n",
    "    \n",
    "def rungekutta(func, TimeRange, y0, h):\n",
    "    ApproxFunc = []\n",
    "    t = TimeRange[0]\n",
    "    t1 = TimeRange[1]\n",
    "    while t <= t1:\n",
    "        if t == TimeRange[0]:\n",
    "            k1 = h*func(t, y0)\n",
    "            k2 = h*func(t+(h/2), y0+(k1/2))\n",
    "            k3 = h*func(t+(h/2), y0+(k2/2))\n",
    "            k4 = h*func(t+h, y0+k3)\n",
    "            yi1 = y0 + (1/6)*(k1 + 2*k2 + 2*k3 + k4)\n",
    "        else:\n",
    "            k1 = h*func(t, yi)\n",
    "            k2 = h*func(t+(h/2), yi+(k1/2))\n",
    "            k3 = h*func(t+(h/2), yi+(k2/2))\n",
    "            k4 = h*func(t+h, yi+k3)\n",
    "            yi1 = yi + (1/6)*(k1 + 2*k2 + 2*k3 + k4)\n",
    "        ApproxFunc.append(yi1)\n",
    "        t += h\n",
    "        yi = yi1\n",
    "    return(ApproxFunc)"
   ]
  }
 ],
 "metadata": {
  "kernelspec": {
   "display_name": "Python 3",
   "language": "python",
   "name": "python3"
  },
  "language_info": {
   "codemirror_mode": {
    "name": "ipython",
    "version": 3
   },
   "file_extension": ".py",
   "mimetype": "text/x-python",
   "name": "python",
   "nbconvert_exporter": "python",
   "pygments_lexer": "ipython3",
   "version": "3.7.3"
  }
 },
 "nbformat": 4,
 "nbformat_minor": 2
}
