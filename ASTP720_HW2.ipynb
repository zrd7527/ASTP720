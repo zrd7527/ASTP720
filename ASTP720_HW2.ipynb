{
 "cells": [
  {
   "cell_type": "code",
   "execution_count": null,
   "metadata": {},
   "outputs": [],
   "source": [
    "def derivative(ynext, ylast, h):\n",
    "    diff = ynext-ylast\n",
    "    return(diff/(2*h))\n",
    "\n",
    "def midpoint(func, h, x0, xn):\n",
    "    tot = (func(x0)+func(x0+1))/2\n",
    "    xi = x0+1\n",
    "    while xi < xn:\n",
    "        tot += (func(xi)+func(xi+1))/2\n",
    "        xi +=1\n",
    "    return(h*tot)\n",
    "    \n",
    "def trapezoidal(func, h, x0, xn):\n",
    "    tot = (func(x0)+2*func(x0+1))/2\n",
    "    xi = x0+1\n",
    "    while xi < xn:\n",
    "        tot += (func(xi)+func(xi+1))\n",
    "        xi +=1\n",
    "        if xi = (xn-1):\n",
    "            tot += (2*func(xi)+func(xn))/2\n",
    "    return((h/2)*tot)\n",
    "    \n",
    "def simpson():"
   ]
  },
  {
   "cell_type": "code",
   "execution_count": null,
   "metadata": {},
   "outputs": [],
   "source": []
  },
  {
   "cell_type": "code",
   "execution_count": null,
   "metadata": {},
   "outputs": [],
   "source": [
    "class matrix:"
   ]
  }
 ],
 "metadata": {
  "kernelspec": {
   "display_name": "Python 3",
   "language": "python",
   "name": "python3"
  },
  "language_info": {
   "codemirror_mode": {
    "name": "ipython",
    "version": 3
   },
   "file_extension": ".py",
   "mimetype": "text/x-python",
   "name": "python",
   "nbconvert_exporter": "python",
   "pygments_lexer": "ipython3",
   "version": "3.7.3"
  }
 },
 "nbformat": 4,
 "nbformat_minor": 2
}
