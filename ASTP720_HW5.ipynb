{
 "cells": [
  {
   "cell_type": "code",
   "execution_count": null,
   "metadata": {},
   "outputs": [],
   "source": [
    "'''\n",
    "ASTP-720, Fall 2020\n",
    "Homework 5\n",
    "Zach Diermyer\n",
    "Problem 1\n",
    "'''\n",
    "\n",
    "import numpy as np\n",
    "import matplotlib.pyplot as plt\n",
    "\n",
    "def CoM(x, y, m):\n",
    "    '''\n",
    "    Finds the center of mass of particles at each coordinate in the given arrays\n",
    "    Inputs:\n",
    "        x - Array of x distances to each particle\n",
    "        y - Array of y distances to each particle\n",
    "        m - Array of particle masses\n",
    "    Returns:\n",
    "    '''\n",
    "    totx = 0\n",
    "    toty = 0\n",
    "    totm = 0\n",
    "    for i in range(len(x)):\n",
    "        totx += (m[i]*x[i])\n",
    "        toty += (m[i]*y[i])\n",
    "        totm += m[i]\n",
    "    comx = totx/totm\n",
    "    comy = toty/totm\n",
    "    return(comx, comy)\n",
    "\n",
    "def BarnesHut(box, xlim, ylim):\n",
    "    quad1 = box[:xlim/2][:ylim/2]\n",
    "    quad2 = box[xlim/2:][:ylim/2]\n",
    "    quad3 = box[xlim/2:][ylim/2:]\n",
    "    quad4 = box[:xlim/2][ylim/2:]\n",
    "    quads = [quad1, quad2, quad3, quad4]\n",
    "    for i in range(len(quads)):\n",
    "        if len(quads[i]) > 1:\n",
    "            quads[i] = BarnesHut(quads[i], xlim/2, ylim/2)\n",
    "    return(quads)\n",
    "\n",
    "def verlet():\n",
    "    return()\n",
    "\n",
    "def forcesoft():\n",
    "    return()\n",
    "\n",
    "def main():\n",
    "    \n",
    "main()\n"
   ]
  }
 ],
 "metadata": {
  "kernelspec": {
   "display_name": "Python 3",
   "language": "python",
   "name": "python3"
  },
  "language_info": {
   "codemirror_mode": {
    "name": "ipython",
    "version": 3
   },
   "file_extension": ".py",
   "mimetype": "text/x-python",
   "name": "python",
   "nbconvert_exporter": "python",
   "pygments_lexer": "ipython3",
   "version": "3.7.3"
  }
 },
 "nbformat": 4,
 "nbformat_minor": 2
}
