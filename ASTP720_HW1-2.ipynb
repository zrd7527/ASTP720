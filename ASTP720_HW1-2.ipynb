{
 "cells": [
  {
   "cell_type": "code",
   "execution_count": 22,
   "metadata": {},
   "outputs": [
    {
     "data": {
      "image/png": "[encoded data removed]",
      "text/plain": [
       "<Figure size 432x288 with 1 Axes>"
      ]
     },
     "metadata": {
      "needs_background": "light"
     },
     "output_type": "display_data"
    }
   ],
   "source": [
    "'''\n",
    "ASTP-720 Homework 1\n",
    "Zach Diermyer\n",
    "Problems 5 & 6\n",
    "'''\n",
    "import matplotlib.pyplot as plt\n",
    "\n",
    "def linterpolator(xp, x0, x1, y0, y1):\n",
    "    '''\n",
    "    Linearly interpolates a y value at the desired x value, xp, using the slope of\n",
    "    the line connecting other input points\n",
    "    Inputs:\n",
    "        xp - X value to interpolate y value of\n",
    "        x0 - First x value\n",
    "        x1 - Second x value\n",
    "        y0 - First y value\n",
    "        y1 - Second y value\n",
    "    Returns:\n",
    "        yp - Interpolated y value\n",
    "    '''\n",
    "    xd = (xp - x0)/(x1 - x0)\n",
    "    yp = y0*(1 - xd) + y1*xd\n",
    "    return(yp)\n",
    "\n",
    "def halfxinterpolate():\n",
    "    '''\n",
    "    Reads lens_density.txt file and interpolates all y values at midpoint x values\n",
    "    Inputs:\n",
    "        none\n",
    "    Returns:\n",
    "        newx - Midpoint x values array\n",
    "        newy - Interpolated y values array\n",
    "        x - Original x values array\n",
    "        y - Original y values array\n",
    "    '''\n",
    "    data = open('lens_density.txt', 'r')\n",
    "    x = []\n",
    "    y = []\n",
    "    while True:\n",
    "        line = data.readline()\n",
    "        if not line:\n",
    "            break               #Exit if line is empty\n",
    "        if line[0].isnumeric():\n",
    "            xi = line[0:3]      #First x values are 3 character strings\n",
    "            if line[3] == ',':\n",
    "                yi = line[5:]   #First y values start at index 5\n",
    "            else:\n",
    "                xi += line[3]   #X values become one digit longer and y values get pushed 1 index back\n",
    "                yi = line[6:]\n",
    "            x.append(float(xi))\n",
    "            y.append(float(yi))\n",
    "    newx = []\n",
    "    newy = []\n",
    "    for i in range(1, len(x)):\n",
    "        xel = (x[i] + x[i-1])/2\n",
    "        newx.append(xel)\n",
    "        yel = linterpolator(xp = xel, x0 = x[i-1], x1 = x[i], y0 = y[i-1], y1 = y[i])\n",
    "        newy.append(yel)\n",
    "    return(newx, newy, x, y)\n",
    "    \n",
    "def main():\n",
    "    vals = halfxinterpolate()\n",
    "    plt.scatter(vals[0], vals[1])\n",
    "    plt.scatter(vals[2], vals[3], color = 'green', marker = '^')\n",
    "    plt.xlabel('x')\n",
    "    plt.ylabel('N_e(x)')\n",
    "    plt.title('Pseudo-Isothermal Plasma Lens Column Density')\n",
    "    plt.legend(labels = ('Interpolated Values', 'Original'))\n",
    "main()"
   ]
  },
  {
   "cell_type": "code",
   "execution_count": null,
   "metadata": {},
   "outputs": [],
   "source": []
  }
 ],
 "metadata": {
  "kernelspec": {
   "display_name": "Python 3",
   "language": "python",
   "name": "python3"
  },
  "language_info": {
   "codemirror_mode": {
    "name": "ipython",
    "version": 3
   },
   "file_extension": ".py",
   "mimetype": "text/x-python",
   "name": "python",
   "nbconvert_exporter": "python",
   "pygments_lexer": "ipython3",
   "version": "3.7.3"
  }
 },
 "nbformat": 4,
 "nbformat_minor": 2
}
